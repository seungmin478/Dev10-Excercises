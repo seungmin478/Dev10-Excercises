{
 "cells": [
  {
   "cell_type": "code",
   "execution_count": 5,
   "id": "2c53333f",
   "metadata": {},
   "outputs": [],
   "source": [
    "progress = '_'*len(word)\n",
    "progress_list = []\n",
    "attempts = 7\n",
    "word = 'train'\n",
    "while attempts != 0\n",
    "    print('You may guess a letter or the full word')\n",
    "    print(str(attempts) + ' tries left')\n",
    "    guess = str(input('Enter letter or word:'))\n",
    "    \n",
    "    if len(guess) > 1:\n",
    "        if guess == word:\n",
    "            print('Nice! You won.')\n",
    "            break\n",
    "            else:\n",
    "                print('Not even close try again.')\n",
    "                attempts = attempts - 1\n",
    "        else:\n",
    "            if len(guess) == 1:\n",
    "                if guess in word:"
   ]
  },
  {
   "cell_type": "code",
   "execution_count": null,
   "id": "702245b8",
   "metadata": {},
   "outputs": [],
   "source": [
    "                "
   ]
  }
 ],
 "metadata": {
  "kernelspec": {
   "display_name": "Python 3",
   "language": "python",
   "name": "python3"
  },
  "language_info": {
   "codemirror_mode": {
    "name": "ipython",
    "version": 3
   },
   "file_extension": ".py",
   "mimetype": "text/x-python",
   "name": "python",
   "nbconvert_exporter": "python",
   "pygments_lexer": "ipython3",
   "version": "3.8.8"
  }
 },
 "nbformat": 4,
 "nbformat_minor": 5
}
