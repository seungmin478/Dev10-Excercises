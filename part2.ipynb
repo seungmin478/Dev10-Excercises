{
 "cells": [
  {
   "cell_type": "code",
   "execution_count": 5,
   "id": "cedb5f87",
   "metadata": {},
   "outputs": [],
   "source": [
    "progress = ''\n",
    "guess_list = []\n",
    "attempts = 7\n",
    "word = 'train'\n",
    "listword = list(word)\n",
    "while attempts != 0\n",
    "    print('You may guess a letter or the full word')\n",
    "    print(str(attempts) + ' tries left')\n",
    "    guess = str(input('Enter letter or word:'))\n",
    "    \n",
    "    if len(guess) > 1:\n",
    "        if guess == word:\n",
    "            print('Nice! You won.')\n",
    "            break\n",
    "            else:\n",
    "                print('Not even close try again.', ' ', attempts-1, ' guesses left')\n",
    "                attempts = attempts - 1\n",
    "        else:\n",
    "            if len(guess) == 1:\n",
    "                guess_list.append(guess)\n",
    "                if word.find(guess) == 1:\n",
    "                    print('You have guessed correctly!', ' ', attempts, ' guesses left')\n",
    "                    for letter in listword:\n",
    "                        if letter in guess_list:\n",
    "                            progress += letter\n",
    "                        else:\n",
    "                            progress += '_'\n",
    "                else:\n",
    "                    print('Incorrect.', ' ', attempts-1, ' guesses left')\n",
    "                    attempts = attempts - 1\n",
    "                        "
   ]
  },
  {
   "cell_type": "code",
   "execution_count": null,
   "id": "1d19a1c2",
   "metadata": {},
   "outputs": [],
   "source": [
    "                "
   ]
  }
 ],
 "metadata": {
  "kernelspec": {
   "display_name": "Python 3",
   "language": "python",
   "name": "python3"
  },
  "language_info": {
   "codemirror_mode": {
    "name": "ipython",
    "version": 3
   },
   "file_extension": ".py",
   "mimetype": "text/x-python",
   "name": "python",
   "nbconvert_exporter": "python",
   "pygments_lexer": "ipython3",
   "version": "3.8.8"
  }
 },
 "nbformat": 4,
 "nbformat_minor": 5
}
